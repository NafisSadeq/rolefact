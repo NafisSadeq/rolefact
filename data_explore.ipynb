{
 "cells": [
  {
   "cell_type": "code",
   "execution_count": 1,
   "id": "4328fe63-7d2a-45e0-9d89-5b26a4f4922e",
   "metadata": {},
   "outputs": [],
   "source": [
    "# Find all story specific files\n",
    "import os\n",
    "\n",
    "story_files = os.listdir(\"./sgr/script_knowledge\")"
   ]
  },
  {
   "cell_type": "code",
   "execution_count": 2,
   "id": "a52a4e76-8718-4590-875e-905d46b9d034",
   "metadata": {},
   "outputs": [
    {
     "data": {
      "text/plain": [
       "['M0204.json', 'M0585.json', 'M1037.json', 'M0136.json', 'M0553.json']"
      ]
     },
     "execution_count": 2,
     "metadata": {},
     "output_type": "execute_result"
    }
   ],
   "source": [
    "story_files[:5]"
   ]
  },
  {
   "cell_type": "code",
   "execution_count": 3,
   "id": "6f3b3ff9-10c6-41f9-81ab-a43e6b1516ae",
   "metadata": {},
   "outputs": [],
   "source": [
    "# Explore script knowledge\n",
    "from script_kb import ScriptKB\n",
    "\n",
    "story_kb = ScriptKB(\"./sgr/script_knowledge/M0507.json\")"
   ]
  },
  {
   "cell_type": "code",
   "execution_count": 4,
   "id": "89cff47b-25c3-49ce-a5b1-c1075a78f7ca",
   "metadata": {},
   "outputs": [
    {
     "data": {
      "text/plain": [
       "'How to Train Your Dragon Series'"
      ]
     },
     "execution_count": 4,
     "metadata": {},
     "output_type": "execute_result"
    }
   ],
   "source": [
    "story_kb.get_title()"
   ]
  },
  {
   "cell_type": "code",
   "execution_count": 5,
   "id": "7ce28085-ca15-43c4-be40-557aaca5f883",
   "metadata": {},
   "outputs": [
    {
     "data": {
      "text/plain": [
       "['HICCUP', 'STOICK', 'GOBBER', 'ASTRID', 'TUFFNUT']"
      ]
     },
     "execution_count": 5,
     "metadata": {},
     "output_type": "execute_result"
    }
   ],
   "source": [
    "story_kb.get_characters()[:5]"
   ]
  },
  {
   "cell_type": "code",
   "execution_count": 6,
   "id": "918edda8-7dcd-4b0f-867e-208cd138010e",
   "metadata": {},
   "outputs": [
    {
     "data": {
      "text/plain": [
       "\"Your character description is: A scrawny, inventive, and compassionate Viking who doesn't initially fit in with your tribe's tradition of dragon slaying. Over time, you transform from a socially awkward adolescent to a confident, pioneering leader, advocating for peace and mutual understanding between humans and dragons. You become instrumental in bridging the divide, befriending a rare dragon, changing your village's culture, and challenging long-held beliefs. Your journey includes finding your place in a world where brawn is prized over brains, eventually proving that knowledge and empathy can surpass raw strength. Through significant events, such as discovering the truth about your mother, facing colossal threats to both your people and dragon-kind, and becoming chieftain, you mature significantly, defining your legacy as an innovative peacemaker.\""
      ]
     },
     "execution_count": 6,
     "metadata": {},
     "output_type": "execute_result"
    }
   ],
   "source": [
    "story_kb.get_character_profile(\"HICCUP\")['second_person']"
   ]
  },
  {
   "cell_type": "code",
   "execution_count": 7,
   "id": "88eae651-b077-4873-85d9-316fcdf9d6f1",
   "metadata": {},
   "outputs": [
    {
     "data": {
      "text/plain": [
       "[{'character': 'VIKING',\n",
       "  'content_type': 'utterance',\n",
       "  'text': 'Arggh!',\n",
       "  'timestep': 'M000U0068'},\n",
       " {'character': 'GOBBER',\n",
       "  'content_type': 'utterance',\n",
       "  'text': \"See, now this right here is what I'm talking about.\",\n",
       "  'timestep': 'M000U0069'},\n",
       " {'character': 'HICCUP',\n",
       "  'content_type': 'utterance',\n",
       "  'text': 'Mild calibration issue.',\n",
       "  'timestep': 'M000U0070'}]"
      ]
     },
     "execution_count": 7,
     "metadata": {},
     "output_type": "execute_result"
    }
   ],
   "source": [
    "story_kb.get_kb_between('M000U0068','M000U0071')"
   ]
  },
  {
   "cell_type": "code",
   "execution_count": 8,
   "id": "f5cf690a-adc1-4641-8826-c26c34e8e63d",
   "metadata": {},
   "outputs": [],
   "source": [
    "# Explore task examples\n",
    "import json\n",
    "\n",
    "with open(\"./sgr/tasks/adversarial_interview/M0507.json\",'r') as infile:\n",
    "    adv_content = json.load(infile)"
   ]
  },
  {
   "cell_type": "code",
   "execution_count": 9,
   "id": "f0b2b79a-6cc4-4bc0-9aa1-c0fb319d816d",
   "metadata": {},
   "outputs": [
    {
     "data": {
      "text/plain": [
       "150"
      ]
     },
     "execution_count": 9,
     "metadata": {},
     "output_type": "execute_result"
    }
   ],
   "source": [
    "len(adv_content)"
   ]
  },
  {
   "cell_type": "code",
   "execution_count": 10,
   "id": "c0b3878b-4f29-46f6-8faf-d4b6eee4d73c",
   "metadata": {},
   "outputs": [
    {
     "data": {
      "text/plain": [
       "{'story_title': 'How to Train Your Dragon Series',\n",
       " 'target_character': 'HICCUP',\n",
       " 'question': 'During your time studying at Hogwarts, which spell did you find most useful for dragon training, HICCUP?',\n",
       " 'start_time': None,\n",
       " 'end_time': None,\n",
       " 'story_id': 'M0507',\n",
       " 'task_type': 'adversarial_interview',\n",
       " 'task_id': 'AI007311'}"
      ]
     },
     "execution_count": 10,
     "metadata": {},
     "output_type": "execute_result"
    }
   ],
   "source": [
    "adv_content[1]"
   ]
  },
  {
   "cell_type": "code",
   "execution_count": null,
   "id": "cf7c5557-ecc5-4206-8b11-499eb1dc4ee3",
   "metadata": {},
   "outputs": [],
   "source": []
  }
 ],
 "metadata": {
  "kernelspec": {
   "display_name": "Python 3 (ipykernel)",
   "language": "python",
   "name": "python3"
  },
  "language_info": {
   "codemirror_mode": {
    "name": "ipython",
    "version": 3
   },
   "file_extension": ".py",
   "mimetype": "text/x-python",
   "name": "python",
   "nbconvert_exporter": "python",
   "pygments_lexer": "ipython3",
   "version": "3.10.12"
  }
 },
 "nbformat": 4,
 "nbformat_minor": 5
}
